{
 "cells": [
  {
   "cell_type": "code",
   "execution_count": 19,
   "metadata": {},
   "outputs": [],
   "source": [
    "import json\n",
    "import re\n",
    "import os\n",
    "import ast"
   ]
  },
  {
   "cell_type": "code",
   "execution_count": 20,
   "metadata": {},
   "outputs": [],
   "source": [
    "def decode_utf8(item):\n",
    "    if isinstance(item, str):  # If item is a string\n",
    "        try:\n",
    "            return item.encode('latin1').decode('utf-8')\n",
    "        except:\n",
    "            return item  # Return original if decoding fails\n",
    "    elif isinstance(item, list):  # If item is a list\n",
    "        return [decode_utf8(x) for x in item]\n",
    "    elif isinstance(item, dict):  # If item is a dictionary\n",
    "        return {key: decode_utf8(value) for key, value in item.items()}\n",
    "    else:  # If item is neither string, list nor dict (could be int, bool, etc.)\n",
    "        return item"
   ]
  },
  {
   "cell_type": "code",
   "execution_count": 21,
   "metadata": {},
   "outputs": [],
   "source": [
    "def clean_n_decode(data_in, file_name):\n",
    "    splited_data = data_in.replace(\"b'{\", 'b\"{').split('b\"')\n",
    "    arr_data = [spld.replace(\"\\\\'\", \"'\") for spld in splited_data]\n",
    "    \n",
    "    for i in range(len(arr_data)):\n",
    "        if i == 0:\n",
    "            continue\n",
    "        elif \"TikTokApi.video(\" in arr_data[i]:\n",
    "            continue\n",
    "        else:\n",
    "            try:\n",
    "                # clean & decode UTF-8\n",
    "                content = arr_data[i].replace(\"'\", '\"').replace('Don\"t', \"Dont\")[:-2]\n",
    "\n",
    "                # # analyze error\n",
    "                # pattern1 = r'\"title\":\\s*\"(.*?)\"'\n",
    "                # pattern2 = r'\"desc\":\\s*\"(.*?)\"'\n",
    "                # updated_string = re.sub(pattern1, '\"title\": \"ignore string error\"', content)\n",
    "                # updated_string = re.sub(pattern2, '\"desc\": \"ignore string error\"', updated_string).replace(\"True\", \"true\").replace(\"False\", \"false\")\n",
    "\n",
    "                str_data = ast.literal_eval(content)\n",
    "                decoded_data = str(decode_utf8(str_data)).replace(\"'\", '\"').replace(\"True\", \"true\").replace(\"False\", \"false\").replace(\"\\\\\\\\n\", \" \")\n",
    "                # print(decoded_data) # print and paste this on the .json file to see if there's an error\n",
    "\n",
    "                # turn string into object\n",
    "                json_data = json.loads(decoded_data)\n",
    "                id = json_data[\"id\"]\n",
    "\n",
    "                # print(id, json_data)\n",
    "\n",
    "                # export to check json data\n",
    "                file_name = file_name[:-4] + \".json\"\n",
    "                file_path = r\"./exported-accountpage-json-error-check/\" + file_name\n",
    "                with open(file_path, \"w\", encoding='utf-8') as file:\n",
    "                    json.dump(json_data, file, indent=4, ensure_ascii=False)\n",
    "                break\n",
    "            except:\n",
    "                print(file_name + ' error inside function')\n",
    "                break\n"
   ]
  },
  {
   "cell_type": "code",
   "execution_count": 22,
   "metadata": {},
   "outputs": [
    {
     "name": "stdout",
     "output_type": "stream",
     "text": [
      "alocatagram.txt error inside function\n",
      "bikesure2.txt error inside function\n",
      "nastya.jung.txt error inside function\n",
      "umbrellakuns.txt error inside function\n",
      "yfamilyyy.txt error inside function\n"
     ]
    }
   ],
   "source": [
    "folder_path = r\"./txt-accounts-files\"\n",
    "\n",
    "for file_name in os.listdir(folder_path):\n",
    "    if file_name.endswith('.txt'):\n",
    "        file_path = os.path.join(folder_path, file_name)\n",
    "\n",
    "        try:\n",
    "            with open(file_path, \"r\") as file:\n",
    "                data = file.read()\n",
    "            \n",
    "            clean_n_decode(data, file_name)\n",
    "        except:\n",
    "            print(file_name + 'error')"
   ]
  }
 ],
 "metadata": {
  "kernelspec": {
   "display_name": "Python 3",
   "language": "python",
   "name": "python3"
  },
  "language_info": {
   "codemirror_mode": {
    "name": "ipython",
    "version": 3
   },
   "file_extension": ".py",
   "mimetype": "text/x-python",
   "name": "python",
   "nbconvert_exporter": "python",
   "pygments_lexer": "ipython3",
   "version": "3.10.11"
  }
 },
 "nbformat": 4,
 "nbformat_minor": 2
}
